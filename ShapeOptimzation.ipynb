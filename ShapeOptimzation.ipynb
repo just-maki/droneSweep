{
 "cells": [
  {
   "cell_type": "code",
   "execution_count": null,
   "id": "9bcf04e5",
   "metadata": {},
   "outputs": [],
   "source": [
    "import pandas as pd\n",
    "import matplotlib.pyplot as plt\n",
    "import seaborn as sns\n",
    "import numpy as np\n"
   ]
  },
  {
   "cell_type": "markdown",
   "id": "c967e503",
   "metadata": {},
   "source": [
    "##PPO proximal policy optimization"
   ]
  },
  {
   "cell_type": "code",
   "execution_count": null,
   "id": "564d3c36",
   "metadata": {},
   "outputs": [],
   "source": []
  }
 ],
 "metadata": {
  "language_info": {
   "name": "python"
  }
 },
 "nbformat": 4,
 "nbformat_minor": 5
}
